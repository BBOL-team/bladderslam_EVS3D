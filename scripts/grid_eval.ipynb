{
 "cells": [
  {
   "cell_type": "code",
   "execution_count": 42,
   "metadata": {},
   "outputs": [],
   "source": [
    "exp_dir_list = [\n",
    "    '/home/hpl/Documents/cysto3D/EndoVidSynthesis/data/Ms-Tsis_t10_s3'\n",
    "]"
   ]
  },
  {
   "cell_type": "code",
   "execution_count": 43,
   "metadata": {},
   "outputs": [
    {
     "name": "stdout",
     "output_type": "stream",
     "text": [
      "Running: mv -r /home/hpl/Documents/cysto3D/EndoVidSynthesis/data/Ms-Tsis_t10_s3/base_experiment/texture /home/hpl/Documents/cysto3D/EndoVidSynthesis/data/Ms-Tsis_t10_s3/base_experiment/texture_orig\n",
      "Running: mkdir -p /home/hpl/Documents/cysto3D/EndoVidSynthesis/data/Ms-Tsis_t10_s3/base_experiment/texture/scene/views\n",
      "Running: cp -r /home/hpl/Documents/cysto3D/EndoVidSynthesis/data/Ms-Tsis_t10_s3/base_data/raw_grid/* /home/hpl/Documents/cysto3D/EndoVidSynthesis/data/Ms-Tsis_t10_s3/base_experiment/texture/scene/views\n",
      "Running: cp /home/hpl/Documents/cysto3D/EndoVidSynthesis/data/Ms-Tsis_t10_s3/base_experiment/texture_orig/tex_im_list.json /home/hpl/Documents/cysto3D/EndoVidSynthesis/data/Ms-Tsis_t10_s3/base_experiment/texture/tex_im_list.json\n",
      "Running: cp -r /home/hpl/Documents/cysto3D/EndoVidSynthesis/data/Ms-Tsis_t10_s3/base_experiment/texture_orig/scene/views/*.cam /home/hpl/Documents/cysto3D/EndoVidSynthesis/data/Ms-Tsis_t10_s3/base_experiment/texture/scene/views\n"
     ]
    }
   ],
   "source": [
    "import os\n",
    "for exp_dir in exp_dir_list:\n",
    "    tex_dir = exp_dir + \"/base_experiment/texture\"\n",
    "    orig_tex_dir = exp_dir + \"/base_experiment/texture_orig\"\n",
    "    if not os.path.exists(orig_tex_dir):\n",
    "        print(\"Running: \"+\"mv -r \"+tex_dir+\" \"+orig_tex_dir)\n",
    "        os.system(\"mv \"+tex_dir+\" \"+orig_tex_dir)\n",
    "        os.system(\"mkdir \"+tex_dir)\n",
    "\n",
    "    raw_grid_dir = exp_dir+'/base_data/raw_grid'\n",
    "    grid_views_dir = tex_dir+'/scene/views'\n",
    "    if not os.path.exists(grid_views_dir):\n",
    "        print(\"Running: \"+\"mkdir -p \"+grid_views_dir)\n",
    "        os.system(\"mkdir -p \"+grid_views_dir)\n",
    "        print(\"Running: \"+\"cp -r \"+raw_grid_dir+\"/* \"+grid_views_dir)\n",
    "        os.system(\"cp -r \"+raw_grid_dir+\"/*.jpg \"+grid_views_dir)\n",
    "        os.system(\"mogrify -format png \"+grid_views_dir+\"/*.jpg\")\n",
    "        os.system(\"rm \"+grid_views_dir+\"/*.jpg\")\n",
    "\n",
    "        print(\"Running: \"+\"cp \" +orig_tex_dir+\"/tex_im_list.json \"+tex_dir+\"/tex_im_list.json\")\n",
    "        os.system(\"cp \" +orig_tex_dir+\"/tex_im_list.json \"+tex_dir+\"/tex_im_list.json\")\n",
    "        print(\"Running: \"+\"cp -r \" +orig_tex_dir+\"/scene/views/*.cam \"+grid_views_dir)\n",
    "        os.system(\"cp -r \" +orig_tex_dir+\"/scene/views/*.cam \"+grid_views_dir)\n",
    "        # rerun texture mapping with grid scenes\n",
    "        data_config = exp_dir+\"/base_data/data_config.json\"\n",
    "    \n"
   ]
  },
  {
   "cell_type": "code",
   "execution_count": 37,
   "metadata": {},
   "outputs": [
    {
     "name": "stdout",
     "output_type": "stream",
     "text": [
      "python2 texture_grid_gen_pipeline.py /home/hpl/Documents/cysto3D/EndoVidSynthesis/data/Ms-Tsis_t14_s1/base_data/data_config.json\n"
     ]
    },
    {
     "data": {
      "text/plain": [
       "512"
      ]
     },
     "execution_count": 37,
     "metadata": {},
     "output_type": "execute_result"
    }
   ],
   "source": [
    "os.system(\"cd /home/hpl/cysto-3Dreconstruction/src/scripts/\")\n",
    "print(\"python2 texture_grid_gen_pipeline.py \"+data_config)\n",
    "os.system(\"python2 texture_grid_gen_pipeline.py \"+data_config) # not working"
   ]
  },
  {
   "cell_type": "code",
   "execution_count": null,
   "metadata": {},
   "outputs": [],
   "source": []
  }
 ],
 "metadata": {
  "kernelspec": {
   "display_name": "Python 3",
   "language": "python",
   "name": "python3"
  },
  "language_info": {
   "codemirror_mode": {
    "name": "ipython",
    "version": 3
   },
   "file_extension": ".py",
   "mimetype": "text/x-python",
   "name": "python",
   "nbconvert_exporter": "python",
   "pygments_lexer": "ipython3",
   "version": "3.7.4"
  }
 },
 "nbformat": 4,
 "nbformat_minor": 2
}
